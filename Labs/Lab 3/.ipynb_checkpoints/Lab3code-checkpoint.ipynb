{
 "cells": [
  {
   "cell_type": "code",
   "execution_count": 14,
   "metadata": {
    "collapsed": true
   },
   "outputs": [],
   "source": [
    "from IPython.display import display, Math, Latex"
   ]
  },
  {
   "cell_type": "markdown",
   "metadata": {},
   "source": [
    "Alice and Bob participate in a game. There is a pool table behind a curtain. There is another friend named Carol can play on the table."
   ]
  },
  {
   "cell_type": "markdown",
   "metadata": {},
   "source": [
    "Carol rolls a ball down the table, and mark the point where the ball landed."
   ]
  },
  {
   "cell_type": "markdown",
   "metadata": {},
   "source": [
    "Carol continuously rolls more balls down the table, if the ball runs to the right of the mark, give Alice 1 point, otherwise give Bob 1 point."
   ]
  },
  {
   "cell_type": "markdown",
   "metadata": {},
   "source": [
    "After 8 turns, Alice got 5, Bob got 3, and who get 6 points win."
   ]
  },
  {
   "cell_type": "markdown",
   "metadata": {},
   "source": [
    "What is the probability of Bob winning the game?\n"
   ]
  },
  {
   "cell_type": "markdown",
   "metadata": {},
   "source": [
    "Let's call p the probabilitiy of Bob win a round. It should be fixed at the time Carol marks the anchor point. \n",
    "Let's call D the observed state (D = Alice (5 point), Bob (3 point))\n",
    "Let's call B the event when Bob wins the game.\n",
    "\n",
    "**Naive frequentist approach**\n",
    "\n",
    "Based on MLE, we estimate p based on the following likelihood (the right side is binomial distribution):\n",
    "\n",
    "$P(D|p) = \\frac{8!}{3! * 5!}p^5 * ( 1 - p )^3$\n",
    "\n",
    "Maximize this give: \n",
    "\n",
    "$p = 3 / 8$\n",
    "\n",
    "Now we use this value of p to estimate the probability of Bob winning the game, which only happens if Bob wins 3 more rounds while Alice still has 5 points only:\n",
    "\n",
    "$P(B|D) = p^3$  (1)\n",
    "\n",
    "Do the calculation:"
   ]
  },
  {
   "cell_type": "code",
   "execution_count": 13,
   "metadata": {
    "collapsed": false
   },
   "outputs": [
    {
     "data": {
      "text/plain": [
       "0.052734375"
      ]
     },
     "execution_count": 13,
     "metadata": {},
     "output_type": "execute_result"
    }
   ],
   "source": [
    "3.0 ** 3 / 8.0 ** 3"
   ]
  },
  {
   "cell_type": "markdown",
   "metadata": {},
   "source": [
    "** Bayesian approach **\n",
    "\n",
    "Bayesian says that based on current observation, we have some uncertainty on the model parameter p, and will quantify that by the following posterior:\n",
    "\n",
    "$P(p|D)$\n",
    "\n",
    "while the prior of p (uncertainty of p when we haven't observed anything) is as following:\n",
    "\n",
    "$P(p)$\n",
    "\n",
    "Now remember the marginalization method:\n",
    "\n",
    "$P(X) = \\sum {P(X, Y)}$\n",
    "\n",
    "It has a continuous form:\n",
    "\n",
    "$P(X) = \\int P(X, Y) dY$\n",
    "\n",
    "Also it could be stated in a conditional form as well:\n",
    "\n",
    "$P(X | Z) = \\int P(X, Y | Z) dY$\n",
    "\n",
    "Applying that, we calculate the chance that Bob winning the game, again by:\n",
    "\n",
    "$P(B|D) = \\int P(B, p|D) dp $\n",
    "\n",
    "$       = \\int P(B|p, D) * P(p|D) dp  $  based on conditionally Bayes rule \n",
    "\n",
    "Note that the formula inside the integral is exactly the calculation at (1) but with only one value of p = 3/8. Here instead we have a distribution of P(p|D). \n",
    "\n",
    "Replace $P(B|p, D) = p^3$ and apply Bayes rule for $P(p|D)$ give:\n",
    "\n",
    "$       = \\int p^3 * \\frac{P(D|p) * P(p)}{P(D)}  dp  $ \n",
    "\n",
    "Note that $P(D|p) = C(3,8) * p^3 * (1 - p)^5$ and assume uniform distribution of p at beginning $P(p)$, and also move $P(D)$ out of integral give:\n",
    "\n",
    "$       = \\frac{\\int C(3,8) * p^3 * p^3 * (1 - p)^5  dp}{P(D)}  $\n",
    "\n",
    "The numerator would become:\n",
    "\n",
    "$\\int C(3,8) * p^6* (1 - p)^5 dp $ \n",
    "\n",
    "\n",
    "\n",
    "Now similarly for the denominator, do the integration as well:\n",
    "\n",
    "$P(D) = \\int P(D|p) * P(p) dp $ \n",
    "\n",
    "$ = \\int C(3,8) * p^3 * (1 - p)^5 dp $ \n",
    "\n",
    "We could cancel out the term $C(3,8)$ which is a combination function from both numerator and denominator. I forgot to put this term into calculation at class but it should be canceled out anyway.\n",
    "\n",
    "Do the calculation:"
   ]
  },
  {
   "cell_type": "code",
   "execution_count": 16,
   "metadata": {
    "collapsed": false
   },
   "outputs": [
    {
     "name": "stdout",
     "output_type": "stream",
     "text": [
      "0.0909090909091\n"
     ]
    }
   ],
   "source": [
    "import scipy.integrate as integrate\n",
    "\n",
    "enumerator = integrate.quad ( lambda p : p ** 6 * ( 1 - p ) ** 5, 0, 1 ) [0]\n",
    "\n",
    "denominator = integrate.quad ( lambda p : p ** 3 * ( 1 - p ) ** 5, 0, 1 ) [0]\n",
    "\n",
    "result = enumerator / denominator\n",
    "\n",
    "print result"
   ]
  },
  {
   "cell_type": "markdown",
   "metadata": {},
   "source": [
    "**What is the difference in this problem**\n",
    "\n",
    "Consider $P(p|D)$, basically the first approach gives a discrete probability $P(3/8) = 1$ (it could be thought of as a continuous distribution that has pdf (probability density function) = $\\infty$ at 3/8 and 0 otherwise) while the second approach gives the following distribution of $P(p|D)$:"
   ]
  },
  {
   "cell_type": "code",
   "execution_count": 26,
   "metadata": {
    "collapsed": false
   },
   "outputs": [
    {
     "data": {
      "text/plain": [
       "<matplotlib.collections.LineCollection at 0x103a3e250>"
      ]
     },
     "execution_count": 26,
     "metadata": {},
     "output_type": "execute_result"
    },
    {
     "data": {
      "image/png": "[encoded data removed]",
      "text/plain": [
       "<matplotlib.figure.Figure at 0x105dfa1d0>"
      ]
     },
     "metadata": {},
     "output_type": "display_data"
    }
   ],
   "source": [
    "%matplotlib inline\n",
    "import matplotlib.pyplot as plt\n",
    "\n",
    "import numpy as np\n",
    "\n",
    "step = 0.0001\n",
    "xs = np.arange(0, 1, step)\n",
    "\n",
    "ys = np.power(xs,3) * np.power(1 - xs, 5) / denominator\n",
    "\n",
    "plt.plot(xs, ys)\n",
    "\n",
    "best = 3.0 / 8\n",
    "plt.text( best, 0, str(best) )\n",
    "plt.vlines(best, 0, ys[best/step], linestyles=u'dashed')"
   ]
  },
  {
   "cell_type": "markdown",
   "metadata": {},
   "source": [
    "The distribution also peaks at 3/8"
   ]
  },
  {
   "cell_type": "markdown",
   "metadata": {},
   "source": [
    "Extra credit problem:\n",
    "    \n",
    "Imagine the pool behinds the curtain has infinity dimension so that the ball can go straight without bouncing on the edges. We know that the direction Carol rolls the ball is of uniform distribution. Whether and how would we incorporate that knowledge into our calculation? If we incorporate it, can you use Bayesian approach to calculate what is the probability of Bob winning the game?"
   ]
  },
  {
   "cell_type": "code",
   "execution_count": null,
   "metadata": {
    "collapsed": true
   },
   "outputs": [],
   "source": []
  }
 ],
 "metadata": {
  "kernelspec": {
   "display_name": "Python 2",
   "language": "python",
   "name": "python2"
  },
  "language_info": {
   "codemirror_mode": {
    "name": "ipython",
    "version": 2
   },
   "file_extension": ".py",
   "mimetype": "text/x-python",
   "name": "python",
   "nbconvert_exporter": "python",
   "pygments_lexer": "ipython2",
   "version": "2.7.10"
  }
 },
 "nbformat": 4,
 "nbformat_minor": 0
}
